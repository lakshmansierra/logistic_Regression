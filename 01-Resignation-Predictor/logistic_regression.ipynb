{
  "cells": [
    {
      "cell_type": "markdown",
      "metadata": {
        "colab_type": "text",
        "id": "37puETfgRzzg"
      },
      "source": [
        "# Logistic Regression"
      ]
    },
    {
      "cell_type": "markdown",
      "metadata": {
        "colab_type": "text",
        "id": "EoRP98MpR-qj"
      },
      "source": [
        "## Importing the libraries"
      ]
    },
    {
      "cell_type": "code",
      "execution_count": 1,
      "metadata": {
        "colab": {},
        "colab_type": "code",
        "id": "N-qiINBQSK2g"
      },
      "outputs": [],
      "source": [
        "import numpy as np\n",
        "import matplotlib.pyplot as plt\n",
        "import pandas as pd"
      ]
    },
    {
      "cell_type": "markdown",
      "metadata": {
        "colab_type": "text",
        "id": "RopL7tUZSQkT"
      },
      "source": [
        "## Importing the dataset"
      ]
    },
    {
      "cell_type": "code",
      "execution_count": 2,
      "metadata": {
        "colab": {},
        "colab_type": "code",
        "id": "WwEPNDWySTKm"
      },
      "outputs": [],
      "source": [
        "df = pd.read_excel(\"updated_data/updated_data.xlsx\")\n"
      ]
    },
    {
      "cell_type": "code",
      "execution_count": 3,
      "metadata": {},
      "outputs": [
        {
          "name": "stdout",
          "output_type": "stream",
          "text": [
            "                Current_Role  Zip Code  Employee Annual Salary$  \\\n",
            "0   Senior Software Engineer     94103                   130800   \n",
            "1   Associate Data Scientist     94111                    74250   \n",
            "2  Associate Product Manager     10009                   125850   \n",
            "3           Business Analyst     60605                    84750   \n",
            "4    Chief Operating Officer      2101                   300000   \n",
            "\n",
            "   Monthly Medical contribution$  Monthly Dental Contribution$  \\\n",
            "0                            130                            35   \n",
            "1                            105                            30   \n",
            "2                            130                            35   \n",
            "3                            105                            30   \n",
            "4                            230                            55   \n",
            "\n",
            "   Monthly Vision Contribution$  Bonus $  Years_Of_Service    Department  \\\n",
            "0                            19    13865               5.2   Engineering   \n",
            "1                            17     4344               1.7  Data Science   \n",
            "2                            19    15920               1.3       Product   \n",
            "3                            17     5890               3.9       Finance   \n",
            "4                            27    90000              15.2     Executive   \n",
            "\n",
            "       Gender  Employee HR rate  # of Hours per week  \\\n",
            "0        Male                60                   40   \n",
            "1  Non-Binary               117                   40   \n",
            "2  Non-Binary               147                   40   \n",
            "3      Female               153                   40   \n",
            "4      Female                79                   40   \n",
            "\n",
            "   Years_Since_Last_Promotion  age  left  \n",
            "0                    2.776181   34     0  \n",
            "1                    1.538672   29     0  \n",
            "2                    1.221081   31     0  \n",
            "3                    2.272416   31     0  \n",
            "4                    5.757700   41     1  \n"
          ]
        }
      ],
      "source": [
        "print(df.head())"
      ]
    },
    {
      "cell_type": "code",
      "execution_count": 4,
      "metadata": {},
      "outputs": [
        {
          "name": "stdout",
          "output_type": "stream",
          "text": [
            "(100, 15)\n"
          ]
        }
      ],
      "source": [
        "print(df.shape)"
      ]
    },
    {
      "cell_type": "markdown",
      "metadata": {
        "colab_type": "text",
        "id": "CriG6VzVSjcK"
      },
      "source": [
        "## Encoding categorical data"
      ]
    },
    {
      "cell_type": "markdown",
      "metadata": {
        "colab_type": "text",
        "id": "AhSpdQWeSsFh"
      },
      "source": [
        "### Encoding the Independent Variable"
      ]
    },
    {
      "cell_type": "code",
      "execution_count": 5,
      "metadata": {},
      "outputs": [],
      "source": [
        "df_encoded = pd.get_dummies(df, columns=['Current_Role', 'Department', 'Gender'], drop_first=False).astype(int)\n"
      ]
    },
    {
      "cell_type": "code",
      "execution_count": 6,
      "metadata": {},
      "outputs": [
        {
          "name": "stdout",
          "output_type": "stream",
          "text": [
            "   Zip Code  Employee Annual Salary$  Monthly Medical contribution$  \\\n",
            "0     94103                   130800                            130   \n",
            "1     94111                    74250                            105   \n",
            "2     10009                   125850                            130   \n",
            "3     60605                    84750                            105   \n",
            "4      2101                   300000                            230   \n",
            "\n",
            "   Monthly Dental Contribution$  Monthly Vision Contribution$  Bonus $  \\\n",
            "0                            35                            19    13865   \n",
            "1                            30                            17     4344   \n",
            "2                            35                            19    15920   \n",
            "3                            30                            17     5890   \n",
            "4                            55                            27    90000   \n",
            "\n",
            "   Years_Of_Service  Employee HR rate  # of Hours per week  \\\n",
            "0                 5                60                   40   \n",
            "1                 1               117                   40   \n",
            "2                 1               147                   40   \n",
            "3                 3               153                   40   \n",
            "4                15                79                   40   \n",
            "\n",
            "   Years_Since_Last_Promotion  ...  Department_Finance  \\\n",
            "0                           2  ...                   0   \n",
            "1                           1  ...                   0   \n",
            "2                           1  ...                   0   \n",
            "3                           2  ...                   1   \n",
            "4                           5  ...                   0   \n",
            "\n",
            "   Department_Human Resources  Department_IT  Department_Marketing  \\\n",
            "0                           0              0                     0   \n",
            "1                           0              0                     0   \n",
            "2                           0              0                     0   \n",
            "3                           0              0                     0   \n",
            "4                           0              0                     0   \n",
            "\n",
            "   Department_Operations  Department_Product  Department_Sales  Gender_Female  \\\n",
            "0                      0                   0                 0              0   \n",
            "1                      0                   0                 0              0   \n",
            "2                      0                   1                 0              0   \n",
            "3                      0                   0                 0              1   \n",
            "4                      0                   0                 0              1   \n",
            "\n",
            "   Gender_Male  Gender_Non-Binary  \n",
            "0            1                  0  \n",
            "1            0                  1  \n",
            "2            0                  1  \n",
            "3            0                  0  \n",
            "4            0                  0  \n",
            "\n",
            "[5 rows x 104 columns]\n"
          ]
        }
      ],
      "source": [
        "print(df_encoded.head())"
      ]
    },
    {
      "cell_type": "code",
      "execution_count": 7,
      "metadata": {},
      "outputs": [
        {
          "name": "stdout",
          "output_type": "stream",
          "text": [
            "(100, 104)\n"
          ]
        }
      ],
      "source": [
        "print(df_encoded.shape)"
      ]
    },
    {
      "cell_type": "markdown",
      "metadata": {},
      "source": [
        "## Split two Data Frame for Independent Features & Dependent Columns"
      ]
    },
    {
      "cell_type": "code",
      "execution_count": 8,
      "metadata": {},
      "outputs": [],
      "source": [
        "df_independent = df_encoded.drop(columns=['left'])\n",
        "X = df_independent\n",
        "df_dependent = df_encoded[['left']]\n",
        "y = df_dependent"
      ]
    },
    {
      "cell_type": "code",
      "execution_count": 9,
      "metadata": {},
      "outputs": [
        {
          "name": "stdout",
          "output_type": "stream",
          "text": [
            "   Zip Code  Employee Annual Salary$  Monthly Medical contribution$  \\\n",
            "0     94103                   130800                            130   \n",
            "1     94111                    74250                            105   \n",
            "2     10009                   125850                            130   \n",
            "3     60605                    84750                            105   \n",
            "4      2101                   300000                            230   \n",
            "\n",
            "   Monthly Dental Contribution$  Monthly Vision Contribution$  Bonus $  \\\n",
            "0                            35                            19    13865   \n",
            "1                            30                            17     4344   \n",
            "2                            35                            19    15920   \n",
            "3                            30                            17     5890   \n",
            "4                            55                            27    90000   \n",
            "\n",
            "   Years_Of_Service  Employee HR rate  # of Hours per week  \\\n",
            "0                 5                60                   40   \n",
            "1                 1               117                   40   \n",
            "2                 1               147                   40   \n",
            "3                 3               153                   40   \n",
            "4                15                79                   40   \n",
            "\n",
            "   Years_Since_Last_Promotion  ...  Department_Finance  \\\n",
            "0                           2  ...                   0   \n",
            "1                           1  ...                   0   \n",
            "2                           1  ...                   0   \n",
            "3                           2  ...                   1   \n",
            "4                           5  ...                   0   \n",
            "\n",
            "   Department_Human Resources  Department_IT  Department_Marketing  \\\n",
            "0                           0              0                     0   \n",
            "1                           0              0                     0   \n",
            "2                           0              0                     0   \n",
            "3                           0              0                     0   \n",
            "4                           0              0                     0   \n",
            "\n",
            "   Department_Operations  Department_Product  Department_Sales  Gender_Female  \\\n",
            "0                      0                   0                 0              0   \n",
            "1                      0                   0                 0              0   \n",
            "2                      0                   1                 0              0   \n",
            "3                      0                   0                 0              1   \n",
            "4                      0                   0                 0              1   \n",
            "\n",
            "   Gender_Male  Gender_Non-Binary  \n",
            "0            1                  0  \n",
            "1            0                  1  \n",
            "2            0                  1  \n",
            "3            0                  0  \n",
            "4            0                  0  \n",
            "\n",
            "[5 rows x 103 columns]\n"
          ]
        }
      ],
      "source": [
        "print(df_independent.head())\n"
      ]
    },
    {
      "cell_type": "code",
      "execution_count": 10,
      "metadata": {},
      "outputs": [
        {
          "name": "stdout",
          "output_type": "stream",
          "text": [
            "(100, 103)\n"
          ]
        }
      ],
      "source": [
        "print(df_independent.shape)"
      ]
    },
    {
      "cell_type": "code",
      "execution_count": 11,
      "metadata": {},
      "outputs": [
        {
          "name": "stdout",
          "output_type": "stream",
          "text": [
            "   left\n",
            "0     0\n",
            "1     0\n",
            "2     0\n",
            "3     0\n",
            "4     1\n"
          ]
        }
      ],
      "source": [
        "print(df_dependent.head())"
      ]
    },
    {
      "cell_type": "code",
      "execution_count": 12,
      "metadata": {},
      "outputs": [
        {
          "name": "stdout",
          "output_type": "stream",
          "text": [
            "(100, 1)\n"
          ]
        }
      ],
      "source": [
        "print(df_dependent.shape)"
      ]
    },
    {
      "cell_type": "markdown",
      "metadata": {
        "colab_type": "text",
        "id": "qb_vcgm3qZKW"
      },
      "source": [
        "## Splitting the dataset into the Training set and Test set"
      ]
    },
    {
      "cell_type": "code",
      "execution_count": 13,
      "metadata": {},
      "outputs": [],
      "source": [
        "from sklearn.model_selection import train_test_split\n",
        "X_train, X_test, y_train, y_test = train_test_split(X, y, test_size = 0.2, random_state = 1)"
      ]
    },
    {
      "cell_type": "code",
      "execution_count": 14,
      "metadata": {
        "colab": {
          "base_uri": "https://localhost:8080/",
          "height": 154
        },
        "colab_type": "code",
        "id": "GuwQhFdKrYTM",
        "outputId": "de1e527f-c229-4daf-e7c5-ea9d2485148d"
      },
      "outputs": [
        {
          "name": "stdout",
          "output_type": "stream",
          "text": [
            "    Zip Code  Employee Annual Salary$  Monthly Medical contribution$  \\\n",
            "2      10009                   125850                            130   \n",
            "73     90011                   136000                            130   \n",
            "97     78712                    88100                            105   \n",
            "62     98102                   190000                            155   \n",
            "19      2108                   220000                            180   \n",
            "\n",
            "    Monthly Dental Contribution$  Monthly Vision Contribution$  Bonus $  \\\n",
            "2                             35                            19    15920   \n",
            "73                            35                            19    15300   \n",
            "97                            30                            17     5594   \n",
            "62                            40                            21    38000   \n",
            "19                            45                            23    50600   \n",
            "\n",
            "    Years_Of_Service  Employee HR rate  # of Hours per week  \\\n",
            "2                  1               147                   40   \n",
            "73                 6                68                   40   \n",
            "97                 2                74                   40   \n",
            "62                10               100                   40   \n",
            "19                11                76                   40   \n",
            "\n",
            "    Years_Since_Last_Promotion  ...  Department_Finance  \\\n",
            "2                            1  ...                   0   \n",
            "73                           5  ...                   0   \n",
            "97                           2  ...                   0   \n",
            "62                           5  ...                   0   \n",
            "19                           5  ...                   0   \n",
            "\n",
            "    Department_Human Resources  Department_IT  Department_Marketing  \\\n",
            "2                            0              0                     0   \n",
            "73                           0              0                     0   \n",
            "97                           0              0                     0   \n",
            "62                           0              0                     0   \n",
            "19                           1              0                     0   \n",
            "\n",
            "    Department_Operations  Department_Product  Department_Sales  \\\n",
            "2                       0                   1                 0   \n",
            "73                      0                   0                 1   \n",
            "97                      0                   0                 0   \n",
            "62                      0                   0                 0   \n",
            "19                      0                   0                 0   \n",
            "\n",
            "    Gender_Female  Gender_Male  Gender_Non-Binary  \n",
            "2               0            0                  1  \n",
            "73              0            1                  0  \n",
            "97              0            1                  0  \n",
            "62              1            0                  0  \n",
            "19              0            1                  0  \n",
            "\n",
            "[5 rows x 103 columns]\n"
          ]
        }
      ],
      "source": [
        "print(X_train.head())"
      ]
    },
    {
      "cell_type": "code",
      "execution_count": 15,
      "metadata": {},
      "outputs": [
        {
          "name": "stdout",
          "output_type": "stream",
          "text": [
            "(80, 103)\n"
          ]
        }
      ],
      "source": [
        "print(X_train.shape)"
      ]
    },
    {
      "cell_type": "code",
      "execution_count": 16,
      "metadata": {
        "colab": {
          "base_uri": "https://localhost:8080/",
          "height": 51
        },
        "colab_type": "code",
        "id": "TUrX_Tvcrbi4",
        "outputId": "9a041a9b-2642-4828-fa2f-a431d7d77631"
      },
      "outputs": [
        {
          "name": "stdout",
          "output_type": "stream",
          "text": [
            "    Zip Code  Employee Annual Salary$  Monthly Medical contribution$  \\\n",
            "80      2104                   139600                            130   \n",
            "84     98102                   147200                            130   \n",
            "33      2107                   141600                            130   \n",
            "81     10004                   133200                            130   \n",
            "93     94112                   149000                            130   \n",
            "\n",
            "    Monthly Dental Contribution$  Monthly Vision Contribution$  Bonus $  \\\n",
            "80                            35                            19    16333   \n",
            "84                            35                            19    18621   \n",
            "33                            35                            19    20390   \n",
            "81                            35                            19    14519   \n",
            "93                            35                            19    18253   \n",
            "\n",
            "    Years_Of_Service  Employee HR rate  # of Hours per week  \\\n",
            "80                 7                82                   40   \n",
            "84                 9               130                   40   \n",
            "33                 4               115                   40   \n",
            "81                 5               122                   40   \n",
            "93                 8               148                   40   \n",
            "\n",
            "    Years_Since_Last_Promotion  ...  Department_Finance  \\\n",
            "80                           4  ...                   0   \n",
            "84                           5  ...                   0   \n",
            "33                           3  ...                   0   \n",
            "81                           2  ...                   0   \n",
            "93                           4  ...                   0   \n",
            "\n",
            "    Department_Human Resources  Department_IT  Department_Marketing  \\\n",
            "80                           1              0                     0   \n",
            "84                           0              0                     0   \n",
            "33                           1              0                     0   \n",
            "81                           0              0                     1   \n",
            "93                           0              0                     0   \n",
            "\n",
            "    Department_Operations  Department_Product  Department_Sales  \\\n",
            "80                      0                   0                 0   \n",
            "84                      0                   1                 0   \n",
            "33                      0                   0                 0   \n",
            "81                      0                   0                 0   \n",
            "93                      0                   0                 0   \n",
            "\n",
            "    Gender_Female  Gender_Male  Gender_Non-Binary  \n",
            "80              0            1                  0  \n",
            "84              1            0                  0  \n",
            "33              1            0                  0  \n",
            "81              0            0                  1  \n",
            "93              1            0                  0  \n",
            "\n",
            "[5 rows x 103 columns]\n"
          ]
        }
      ],
      "source": [
        "print(X_test.head())"
      ]
    },
    {
      "cell_type": "code",
      "execution_count": 17,
      "metadata": {},
      "outputs": [
        {
          "name": "stdout",
          "output_type": "stream",
          "text": [
            "(20, 103)\n"
          ]
        }
      ],
      "source": [
        "print(X_test.shape)"
      ]
    },
    {
      "cell_type": "code",
      "execution_count": 18,
      "metadata": {
        "colab": {
          "base_uri": "https://localhost:8080/",
          "height": 34
        },
        "colab_type": "code",
        "id": "pSMHiIsWreQY",
        "outputId": "5afe91e0-9244-4bf5-ec1b-e3e092b85c08"
      },
      "outputs": [
        {
          "name": "stdout",
          "output_type": "stream",
          "text": [
            "    left\n",
            "2      0\n",
            "73     1\n",
            "97     0\n",
            "62     1\n",
            "19     1\n"
          ]
        }
      ],
      "source": [
        "print(y_train.head())"
      ]
    },
    {
      "cell_type": "code",
      "execution_count": 19,
      "metadata": {},
      "outputs": [
        {
          "name": "stdout",
          "output_type": "stream",
          "text": [
            "(80, 1)\n"
          ]
        }
      ],
      "source": [
        "print(y_train.shape)"
      ]
    },
    {
      "cell_type": "code",
      "execution_count": 20,
      "metadata": {
        "colab": {
          "base_uri": "https://localhost:8080/",
          "height": 34
        },
        "colab_type": "code",
        "id": "I_tW7H56rgtW",
        "outputId": "2a93f141-2a99-4a69-eec5-c82a3bb8d36b"
      },
      "outputs": [
        {
          "name": "stdout",
          "output_type": "stream",
          "text": [
            "    left\n",
            "80     0\n",
            "84     1\n",
            "33     0\n",
            "81     0\n",
            "93     0\n"
          ]
        }
      ],
      "source": [
        "print(y_test.head())"
      ]
    },
    {
      "cell_type": "code",
      "execution_count": 21,
      "metadata": {},
      "outputs": [
        {
          "name": "stdout",
          "output_type": "stream",
          "text": [
            "(20, 1)\n"
          ]
        }
      ],
      "source": [
        "print(y_test.shape)"
      ]
    },
    {
      "cell_type": "markdown",
      "metadata": {},
      "source": [
        "## Feature Scaling"
      ]
    },
    {
      "cell_type": "code",
      "execution_count": 22,
      "metadata": {},
      "outputs": [],
      "source": [
        "from sklearn.preprocessing import StandardScaler\n",
        "sc = StandardScaler()\n",
        "\n",
        "# List of columns to scale\n",
        "columns_to_scale = [\n",
        "    'Zip Code', 'Employee Annual Salary$', 'Monthly Medical contribution$',\n",
        "    'Monthly Dental Contribution$', 'Monthly Vision Contribution$', 'Bonus $',\n",
        "    'Years_Of_Service', 'Employee HR rate', '# of Hours per week',\n",
        "    'Years_Since_Last_Promotion', 'age'\n",
        "]\n",
        "\n",
        "# Fit sc on training data and transform both training and test sets\n",
        "X_train_scaled = X_train.copy()\n",
        "X_test_scaled = X_test.copy()\n",
        "\n",
        "X_train_scaled[columns_to_scale] = sc.fit_transform(X_train_scaled[columns_to_scale])\n",
        "X_test_scaled[columns_to_scale] = sc.transform(X_test_scaled[columns_to_scale])\n"
      ]
    },
    {
      "cell_type": "code",
      "execution_count": 23,
      "metadata": {
        "colab": {
          "base_uri": "https://localhost:8080/",
          "height": 154
        },
        "colab_type": "code",
        "id": "DWPET8ZdlMnu",
        "outputId": "dea86927-5124-4e2a-e974-2804df9a913c"
      },
      "outputs": [
        {
          "name": "stdout",
          "output_type": "stream",
          "text": [
            "    Zip Code  Employee Annual Salary$  Monthly Medical contribution$  \\\n",
            "2  -1.564536                -0.078349                       0.030762   \n",
            "73  0.667639                 0.108960                       0.030762   \n",
            "97  0.352380                -0.774991                      -0.789546   \n",
            "62  0.893390                 1.105480                       0.851069   \n",
            "19 -1.784986                 1.659103                       1.671377   \n",
            "..       ...                      ...                            ...   \n",
            "75 -0.152860                 0.027762                       0.030762   \n",
            "9  -1.564731                -0.011914                       0.030762   \n",
            "72  0.667555                 0.108960                       0.030762   \n",
            "12  0.781840                -0.910628                      -0.789546   \n",
            "37  0.782007                -1.210507                      -0.789546   \n",
            "\n",
            "    Monthly Dental Contribution$  Monthly Vision Contribution$   Bonus $  \\\n",
            "2                       0.030762                      0.030762 -0.132665   \n",
            "73                      0.030762                      0.030762 -0.165009   \n",
            "97                     -0.789546                     -0.789546 -0.671348   \n",
            "62                      0.851069                      0.851069  1.019194   \n",
            "19                      1.671377                      1.671377  1.676506   \n",
            "..                           ...                           ...       ...   \n",
            "75                      0.030762                      0.030762 -0.228602   \n",
            "9                       0.030762                      0.030762 -0.081906   \n",
            "72                      0.030762                      0.030762 -0.165009   \n",
            "12                     -0.789546                     -0.789546 -0.704109   \n",
            "37                     -0.789546                     -0.789546 -0.764623   \n",
            "\n",
            "    Years_Of_Service  Employee HR rate  # of Hours per week  \\\n",
            "2          -1.374650          1.440401                  0.0   \n",
            "73          0.261838         -1.410628                  0.0   \n",
            "97         -1.047352         -1.194094                  0.0   \n",
            "62          1.571029         -0.255781                  0.0   \n",
            "19          1.898326         -1.121916                  0.0   \n",
            "..               ...               ...                  ...   \n",
            "75         -0.065460          0.177287                  0.0   \n",
            "9          -1.047352         -0.977560                  0.0   \n",
            "72          0.261838          1.765202                  0.0   \n",
            "12         -1.047352         -0.219692                  0.0   \n",
            "37         -1.374650         -1.482806                  0.0   \n",
            "\n",
            "    Years_Since_Last_Promotion  ...  Department_Finance  \\\n",
            "2                    -1.271094  ...                   0   \n",
            "73                    1.857752  ...                   0   \n",
            "97                   -0.488882  ...                   0   \n",
            "62                    1.857752  ...                   0   \n",
            "19                    1.857752  ...                   0   \n",
            "..                         ...  ...                 ...   \n",
            "75                   -0.488882  ...                   1   \n",
            "9                    -1.271094  ...                   0   \n",
            "72                    0.293329  ...                   0   \n",
            "12                   -1.271094  ...                   0   \n",
            "37                   -1.271094  ...                   0   \n",
            "\n",
            "    Department_Human Resources  Department_IT  Department_Marketing  \\\n",
            "2                            0              0                     0   \n",
            "73                           0              0                     0   \n",
            "97                           0              0                     0   \n",
            "62                           0              0                     0   \n",
            "19                           1              0                     0   \n",
            "..                         ...            ...                   ...   \n",
            "75                           0              0                     0   \n",
            "9                            0              0                     0   \n",
            "72                           0              0                     0   \n",
            "12                           0              0                     0   \n",
            "37                           0              0                     0   \n",
            "\n",
            "    Department_Operations  Department_Product  Department_Sales  \\\n",
            "2                       0                   1                 0   \n",
            "73                      0                   0                 1   \n",
            "97                      0                   0                 0   \n",
            "62                      0                   0                 0   \n",
            "19                      0                   0                 0   \n",
            "..                    ...                 ...               ...   \n",
            "75                      0                   0                 0   \n",
            "9                       0                   0                 0   \n",
            "72                      0                   0                 1   \n",
            "12                      0                   0                 0   \n",
            "37                      0                   0                 0   \n",
            "\n",
            "    Gender_Female  Gender_Male  Gender_Non-Binary  \n",
            "2               0            0                  1  \n",
            "73              0            1                  0  \n",
            "97              0            1                  0  \n",
            "62              1            0                  0  \n",
            "19              0            1                  0  \n",
            "..            ...          ...                ...  \n",
            "75              0            0                  1  \n",
            "9               0            1                  0  \n",
            "72              0            1                  0  \n",
            "12              0            1                  0  \n",
            "37              0            1                  0  \n",
            "\n",
            "[80 rows x 103 columns]\n"
          ]
        }
      ],
      "source": [
        "print(X_train_scaled)"
      ]
    },
    {
      "cell_type": "code",
      "execution_count": 24,
      "metadata": {
        "colab": {
          "base_uri": "https://localhost:8080/",
          "height": 51
        },
        "colab_type": "code",
        "id": "sTXykB_QlRjE",
        "outputId": "b68f0cfc-d07c-48cb-80d0-6800028c41f9"
      },
      "outputs": [
        {
          "name": "stdout",
          "output_type": "stream",
          "text": [
            "    Zip Code  Employee Annual Salary$  Monthly Medical contribution$  \\\n",
            "80 -1.785097                 0.175395                       0.030762   \n",
            "84  0.893390                 0.315646                       0.030762   \n",
            "33 -1.785013                 0.212303                       0.030762   \n",
            "81 -1.564675                 0.057288                       0.030762   \n",
            "93  0.782063                 0.348863                       0.030762   \n",
            "17  0.782063                -0.691947                      -0.789546   \n",
            "36  0.782035                -0.961377                      -0.789546   \n",
            "82 -1.564675                 0.027762                       0.030762   \n",
            "69  0.667611                 1.470871                       1.671377   \n",
            "65 -1.564508                 0.319336                       0.030762   \n",
            "92  0.781812                 1.659103                       1.671377   \n",
            "39  0.352910                -1.205894                      -0.789546   \n",
            "56  0.893362                -0.850652                      -0.789546   \n",
            "52 -1.564703                 0.120955                       0.030762   \n",
            "51 -1.564648                -1.168063                      -0.789546   \n",
            "32 -1.785013                -1.127464                      -0.789546   \n",
            "31 -1.785013                -1.186517                      -0.789546   \n",
            "44  0.782063                 0.297191                       0.030762   \n",
            "78 -0.152776                 0.086815                       0.030762   \n",
            "10 -1.564703                -0.677184                      -0.789546   \n",
            "\n",
            "    Monthly Dental Contribution$  Monthly Vision Contribution$   Bonus $  \\\n",
            "80                      0.030762                      0.030762 -0.111120   \n",
            "84                      0.030762                      0.030762  0.008239   \n",
            "33                      0.030762                      0.030762  0.100524   \n",
            "81                      0.030762                      0.030762 -0.205752   \n",
            "93                      0.030762                      0.030762 -0.010958   \n",
            "17                     -0.789546                     -0.789546 -0.620171   \n",
            "36                     -0.789546                     -0.789546 -0.735305   \n",
            "82                      0.030762                      0.030762 -0.228602   \n",
            "69                      1.671377                      1.671377  1.461106   \n",
            "65                      0.030762                      0.030762 -0.036573   \n",
            "92                      1.671377                      1.671377  1.676506   \n",
            "39                     -0.789546                     -0.789546 -0.762171   \n",
            "56                     -0.789546                     -0.789546 -0.665192   \n",
            "52                      0.030762                      0.030762  0.024150   \n",
            "51                     -0.789546                     -0.789546 -0.729671   \n",
            "32                     -0.789546                     -0.789546 -0.702179   \n",
            "31                     -0.789546                     -0.789546 -0.741774   \n",
            "44                      0.030762                      0.030762 -0.055562   \n",
            "78                      0.030762                      0.030762 -0.182590   \n",
            "10                     -0.789546                     -0.789546 -0.651315   \n",
            "\n",
            "    Years_Of_Service  Employee HR rate  # of Hours per week  \\\n",
            "80          0.589136         -0.905382                  0.0   \n",
            "84          1.243731          0.826889                  0.0   \n",
            "33         -0.392757          0.285554                  0.0   \n",
            "81         -0.065460          0.538177                  0.0   \n",
            "93          0.916433          1.476490                  0.0   \n",
            "17         -0.392757         -1.049738                  0.0   \n",
            "36         -1.374650          1.801291                  0.0   \n",
            "82         -0.065460          1.620846                  0.0   \n",
            "69          0.916433         -1.085827                  0.0   \n",
            "65          0.916433          1.837380                  0.0   \n",
            "92          1.571029          0.465999                  0.0   \n",
            "39         -1.374650          0.718622                  0.0   \n",
            "56         -0.720055          1.873469                  0.0   \n",
            "52         -0.720055         -1.663251                  0.0   \n",
            "51         -0.720055          1.296045                  0.0   \n",
            "32         -0.392757          1.368223                  0.0   \n",
            "31         -1.047352         -0.436226                  0.0   \n",
            "44          0.589136         -0.327959                  0.0   \n",
            "78          0.261838         -1.158005                  0.0   \n",
            "10         -1.047352          1.223867                  0.0   \n",
            "\n",
            "    Years_Since_Last_Promotion  ...  Department_Finance  \\\n",
            "80                    1.075541  ...                   0   \n",
            "84                    1.857752  ...                   0   \n",
            "33                    0.293329  ...                   0   \n",
            "81                   -0.488882  ...                   0   \n",
            "93                    1.075541  ...                   0   \n",
            "17                   -1.271094  ...                   0   \n",
            "36                   -1.271094  ...                   0   \n",
            "82                   -0.488882  ...                   0   \n",
            "69                    0.293329  ...                   0   \n",
            "65                    1.857752  ...                   0   \n",
            "92                    1.857752  ...                   0   \n",
            "39                   -1.271094  ...                   0   \n",
            "56                   -0.488882  ...                   0   \n",
            "52                   -0.488882  ...                   0   \n",
            "51                   -1.271094  ...                   0   \n",
            "32                   -0.488882  ...                   0   \n",
            "31                   -1.271094  ...                   0   \n",
            "44                    0.293329  ...                   0   \n",
            "78                    1.075541  ...                   1   \n",
            "10                   -1.271094  ...                   0   \n",
            "\n",
            "    Department_Human Resources  Department_IT  Department_Marketing  \\\n",
            "80                           1              0                     0   \n",
            "84                           0              0                     0   \n",
            "33                           1              0                     0   \n",
            "81                           0              0                     1   \n",
            "93                           0              0                     0   \n",
            "17                           0              0                     0   \n",
            "36                           0              0                     0   \n",
            "82                           0              0                     1   \n",
            "69                           0              0                     0   \n",
            "65                           0              0                     0   \n",
            "92                           0              0                     0   \n",
            "39                           0              0                     0   \n",
            "56                           0              0                     0   \n",
            "52                           0              0                     1   \n",
            "51                           0              0                     1   \n",
            "32                           1              0                     0   \n",
            "31                           1              0                     0   \n",
            "44                           0              0                     0   \n",
            "78                           0              0                     0   \n",
            "10                           0              0                     0   \n",
            "\n",
            "    Department_Operations  Department_Product  Department_Sales  \\\n",
            "80                      0                   0                 0   \n",
            "84                      0                   1                 0   \n",
            "33                      0                   0                 0   \n",
            "81                      0                   0                 0   \n",
            "93                      0                   0                 0   \n",
            "17                      0                   0                 0   \n",
            "36                      0                   0                 0   \n",
            "82                      0                   0                 0   \n",
            "69                      0                   0                 1   \n",
            "65                      0                   1                 0   \n",
            "92                      0                   0                 0   \n",
            "39                      0                   0                 0   \n",
            "56                      1                   0                 0   \n",
            "52                      0                   0                 0   \n",
            "51                      0                   0                 0   \n",
            "32                      0                   0                 0   \n",
            "31                      0                   0                 0   \n",
            "44                      0                   0                 0   \n",
            "78                      0                   0                 0   \n",
            "10                      0                   0                 0   \n",
            "\n",
            "    Gender_Female  Gender_Male  Gender_Non-Binary  \n",
            "80              0            1                  0  \n",
            "84              1            0                  0  \n",
            "33              1            0                  0  \n",
            "81              0            0                  1  \n",
            "93              1            0                  0  \n",
            "17              0            1                  0  \n",
            "36              0            0                  1  \n",
            "82              0            0                  1  \n",
            "69              1            0                  0  \n",
            "65              1            0                  0  \n",
            "92              1            0                  0  \n",
            "39              0            0                  1  \n",
            "56              0            1                  0  \n",
            "52              1            0                  0  \n",
            "51              1            0                  0  \n",
            "32              1            0                  0  \n",
            "31              1            0                  0  \n",
            "44              1            0                  0  \n",
            "78              1            0                  0  \n",
            "10              0            1                  0  \n",
            "\n",
            "[20 rows x 103 columns]\n"
          ]
        }
      ],
      "source": [
        "print(X_test_scaled)"
      ]
    },
    {
      "cell_type": "markdown",
      "metadata": {},
      "source": [
        "## Training the Model"
      ]
    },
    {
      "cell_type": "code",
      "execution_count": 25,
      "metadata": {},
      "outputs": [],
      "source": [
        "from sklearn.linear_model import LogisticRegression\n",
        "model = LogisticRegression()"
      ]
    },
    {
      "cell_type": "code",
      "execution_count": 26,
      "metadata": {},
      "outputs": [
        {
          "data": {
            "text/html": [
              "<style>#sk-container-id-1 {\n",
              "  /* Definition of color scheme common for light and dark mode */\n",
              "  --sklearn-color-text: #000;\n",
              "  --sklearn-color-text-muted: #666;\n",
              "  --sklearn-color-line: gray;\n",
              "  /* Definition of color scheme for unfitted estimators */\n",
              "  --sklearn-color-unfitted-level-0: #fff5e6;\n",
              "  --sklearn-color-unfitted-level-1: #f6e4d2;\n",
              "  --sklearn-color-unfitted-level-2: #ffe0b3;\n",
              "  --sklearn-color-unfitted-level-3: chocolate;\n",
              "  /* Definition of color scheme for fitted estimators */\n",
              "  --sklearn-color-fitted-level-0: #f0f8ff;\n",
              "  --sklearn-color-fitted-level-1: #d4ebff;\n",
              "  --sklearn-color-fitted-level-2: #b3dbfd;\n",
              "  --sklearn-color-fitted-level-3: cornflowerblue;\n",
              "\n",
              "  /* Specific color for light theme */\n",
              "  --sklearn-color-text-on-default-background: var(--sg-text-color, var(--theme-code-foreground, var(--jp-content-font-color1, black)));\n",
              "  --sklearn-color-background: var(--sg-background-color, var(--theme-background, var(--jp-layout-color0, white)));\n",
              "  --sklearn-color-border-box: var(--sg-text-color, var(--theme-code-foreground, var(--jp-content-font-color1, black)));\n",
              "  --sklearn-color-icon: #696969;\n",
              "\n",
              "  @media (prefers-color-scheme: dark) {\n",
              "    /* Redefinition of color scheme for dark theme */\n",
              "    --sklearn-color-text-on-default-background: var(--sg-text-color, var(--theme-code-foreground, var(--jp-content-font-color1, white)));\n",
              "    --sklearn-color-background: var(--sg-background-color, var(--theme-background, var(--jp-layout-color0, #111)));\n",
              "    --sklearn-color-border-box: var(--sg-text-color, var(--theme-code-foreground, var(--jp-content-font-color1, white)));\n",
              "    --sklearn-color-icon: #878787;\n",
              "  }\n",
              "}\n",
              "\n",
              "#sk-container-id-1 {\n",
              "  color: var(--sklearn-color-text);\n",
              "}\n",
              "\n",
              "#sk-container-id-1 pre {\n",
              "  padding: 0;\n",
              "}\n",
              "\n",
              "#sk-container-id-1 input.sk-hidden--visually {\n",
              "  border: 0;\n",
              "  clip: rect(1px 1px 1px 1px);\n",
              "  clip: rect(1px, 1px, 1px, 1px);\n",
              "  height: 1px;\n",
              "  margin: -1px;\n",
              "  overflow: hidden;\n",
              "  padding: 0;\n",
              "  position: absolute;\n",
              "  width: 1px;\n",
              "}\n",
              "\n",
              "#sk-container-id-1 div.sk-dashed-wrapped {\n",
              "  border: 1px dashed var(--sklearn-color-line);\n",
              "  margin: 0 0.4em 0.5em 0.4em;\n",
              "  box-sizing: border-box;\n",
              "  padding-bottom: 0.4em;\n",
              "  background-color: var(--sklearn-color-background);\n",
              "}\n",
              "\n",
              "#sk-container-id-1 div.sk-container {\n",
              "  /* jupyter's `normalize.less` sets `[hidden] { display: none; }`\n",
              "     but bootstrap.min.css set `[hidden] { display: none !important; }`\n",
              "     so we also need the `!important` here to be able to override the\n",
              "     default hidden behavior on the sphinx rendered scikit-learn.org.\n",
              "     See: https://github.com/scikit-learn/scikit-learn/issues/21755 */\n",
              "  display: inline-block !important;\n",
              "  position: relative;\n",
              "}\n",
              "\n",
              "#sk-container-id-1 div.sk-text-repr-fallback {\n",
              "  display: none;\n",
              "}\n",
              "\n",
              "div.sk-parallel-item,\n",
              "div.sk-serial,\n",
              "div.sk-item {\n",
              "  /* draw centered vertical line to link estimators */\n",
              "  background-image: linear-gradient(var(--sklearn-color-text-on-default-background), var(--sklearn-color-text-on-default-background));\n",
              "  background-size: 2px 100%;\n",
              "  background-repeat: no-repeat;\n",
              "  background-position: center center;\n",
              "}\n",
              "\n",
              "/* Parallel-specific style estimator block */\n",
              "\n",
              "#sk-container-id-1 div.sk-parallel-item::after {\n",
              "  content: \"\";\n",
              "  width: 100%;\n",
              "  border-bottom: 2px solid var(--sklearn-color-text-on-default-background);\n",
              "  flex-grow: 1;\n",
              "}\n",
              "\n",
              "#sk-container-id-1 div.sk-parallel {\n",
              "  display: flex;\n",
              "  align-items: stretch;\n",
              "  justify-content: center;\n",
              "  background-color: var(--sklearn-color-background);\n",
              "  position: relative;\n",
              "}\n",
              "\n",
              "#sk-container-id-1 div.sk-parallel-item {\n",
              "  display: flex;\n",
              "  flex-direction: column;\n",
              "}\n",
              "\n",
              "#sk-container-id-1 div.sk-parallel-item:first-child::after {\n",
              "  align-self: flex-end;\n",
              "  width: 50%;\n",
              "}\n",
              "\n",
              "#sk-container-id-1 div.sk-parallel-item:last-child::after {\n",
              "  align-self: flex-start;\n",
              "  width: 50%;\n",
              "}\n",
              "\n",
              "#sk-container-id-1 div.sk-parallel-item:only-child::after {\n",
              "  width: 0;\n",
              "}\n",
              "\n",
              "/* Serial-specific style estimator block */\n",
              "\n",
              "#sk-container-id-1 div.sk-serial {\n",
              "  display: flex;\n",
              "  flex-direction: column;\n",
              "  align-items: center;\n",
              "  background-color: var(--sklearn-color-background);\n",
              "  padding-right: 1em;\n",
              "  padding-left: 1em;\n",
              "}\n",
              "\n",
              "\n",
              "/* Toggleable style: style used for estimator/Pipeline/ColumnTransformer box that is\n",
              "clickable and can be expanded/collapsed.\n",
              "- Pipeline and ColumnTransformer use this feature and define the default style\n",
              "- Estimators will overwrite some part of the style using the `sk-estimator` class\n",
              "*/\n",
              "\n",
              "/* Pipeline and ColumnTransformer style (default) */\n",
              "\n",
              "#sk-container-id-1 div.sk-toggleable {\n",
              "  /* Default theme specific background. It is overwritten whether we have a\n",
              "  specific estimator or a Pipeline/ColumnTransformer */\n",
              "  background-color: var(--sklearn-color-background);\n",
              "}\n",
              "\n",
              "/* Toggleable label */\n",
              "#sk-container-id-1 label.sk-toggleable__label {\n",
              "  cursor: pointer;\n",
              "  display: flex;\n",
              "  width: 100%;\n",
              "  margin-bottom: 0;\n",
              "  padding: 0.5em;\n",
              "  box-sizing: border-box;\n",
              "  text-align: center;\n",
              "  align-items: start;\n",
              "  justify-content: space-between;\n",
              "  gap: 0.5em;\n",
              "}\n",
              "\n",
              "#sk-container-id-1 label.sk-toggleable__label .caption {\n",
              "  font-size: 0.6rem;\n",
              "  font-weight: lighter;\n",
              "  color: var(--sklearn-color-text-muted);\n",
              "}\n",
              "\n",
              "#sk-container-id-1 label.sk-toggleable__label-arrow:before {\n",
              "  /* Arrow on the left of the label */\n",
              "  content: \"▸\";\n",
              "  float: left;\n",
              "  margin-right: 0.25em;\n",
              "  color: var(--sklearn-color-icon);\n",
              "}\n",
              "\n",
              "#sk-container-id-1 label.sk-toggleable__label-arrow:hover:before {\n",
              "  color: var(--sklearn-color-text);\n",
              "}\n",
              "\n",
              "/* Toggleable content - dropdown */\n",
              "\n",
              "#sk-container-id-1 div.sk-toggleable__content {\n",
              "  max-height: 0;\n",
              "  max-width: 0;\n",
              "  overflow: hidden;\n",
              "  text-align: left;\n",
              "  /* unfitted */\n",
              "  background-color: var(--sklearn-color-unfitted-level-0);\n",
              "}\n",
              "\n",
              "#sk-container-id-1 div.sk-toggleable__content.fitted {\n",
              "  /* fitted */\n",
              "  background-color: var(--sklearn-color-fitted-level-0);\n",
              "}\n",
              "\n",
              "#sk-container-id-1 div.sk-toggleable__content pre {\n",
              "  margin: 0.2em;\n",
              "  border-radius: 0.25em;\n",
              "  color: var(--sklearn-color-text);\n",
              "  /* unfitted */\n",
              "  background-color: var(--sklearn-color-unfitted-level-0);\n",
              "}\n",
              "\n",
              "#sk-container-id-1 div.sk-toggleable__content.fitted pre {\n",
              "  /* unfitted */\n",
              "  background-color: var(--sklearn-color-fitted-level-0);\n",
              "}\n",
              "\n",
              "#sk-container-id-1 input.sk-toggleable__control:checked~div.sk-toggleable__content {\n",
              "  /* Expand drop-down */\n",
              "  max-height: 200px;\n",
              "  max-width: 100%;\n",
              "  overflow: auto;\n",
              "}\n",
              "\n",
              "#sk-container-id-1 input.sk-toggleable__control:checked~label.sk-toggleable__label-arrow:before {\n",
              "  content: \"▾\";\n",
              "}\n",
              "\n",
              "/* Pipeline/ColumnTransformer-specific style */\n",
              "\n",
              "#sk-container-id-1 div.sk-label input.sk-toggleable__control:checked~label.sk-toggleable__label {\n",
              "  color: var(--sklearn-color-text);\n",
              "  background-color: var(--sklearn-color-unfitted-level-2);\n",
              "}\n",
              "\n",
              "#sk-container-id-1 div.sk-label.fitted input.sk-toggleable__control:checked~label.sk-toggleable__label {\n",
              "  background-color: var(--sklearn-color-fitted-level-2);\n",
              "}\n",
              "\n",
              "/* Estimator-specific style */\n",
              "\n",
              "/* Colorize estimator box */\n",
              "#sk-container-id-1 div.sk-estimator input.sk-toggleable__control:checked~label.sk-toggleable__label {\n",
              "  /* unfitted */\n",
              "  background-color: var(--sklearn-color-unfitted-level-2);\n",
              "}\n",
              "\n",
              "#sk-container-id-1 div.sk-estimator.fitted input.sk-toggleable__control:checked~label.sk-toggleable__label {\n",
              "  /* fitted */\n",
              "  background-color: var(--sklearn-color-fitted-level-2);\n",
              "}\n",
              "\n",
              "#sk-container-id-1 div.sk-label label.sk-toggleable__label,\n",
              "#sk-container-id-1 div.sk-label label {\n",
              "  /* The background is the default theme color */\n",
              "  color: var(--sklearn-color-text-on-default-background);\n",
              "}\n",
              "\n",
              "/* On hover, darken the color of the background */\n",
              "#sk-container-id-1 div.sk-label:hover label.sk-toggleable__label {\n",
              "  color: var(--sklearn-color-text);\n",
              "  background-color: var(--sklearn-color-unfitted-level-2);\n",
              "}\n",
              "\n",
              "/* Label box, darken color on hover, fitted */\n",
              "#sk-container-id-1 div.sk-label.fitted:hover label.sk-toggleable__label.fitted {\n",
              "  color: var(--sklearn-color-text);\n",
              "  background-color: var(--sklearn-color-fitted-level-2);\n",
              "}\n",
              "\n",
              "/* Estimator label */\n",
              "\n",
              "#sk-container-id-1 div.sk-label label {\n",
              "  font-family: monospace;\n",
              "  font-weight: bold;\n",
              "  display: inline-block;\n",
              "  line-height: 1.2em;\n",
              "}\n",
              "\n",
              "#sk-container-id-1 div.sk-label-container {\n",
              "  text-align: center;\n",
              "}\n",
              "\n",
              "/* Estimator-specific */\n",
              "#sk-container-id-1 div.sk-estimator {\n",
              "  font-family: monospace;\n",
              "  border: 1px dotted var(--sklearn-color-border-box);\n",
              "  border-radius: 0.25em;\n",
              "  box-sizing: border-box;\n",
              "  margin-bottom: 0.5em;\n",
              "  /* unfitted */\n",
              "  background-color: var(--sklearn-color-unfitted-level-0);\n",
              "}\n",
              "\n",
              "#sk-container-id-1 div.sk-estimator.fitted {\n",
              "  /* fitted */\n",
              "  background-color: var(--sklearn-color-fitted-level-0);\n",
              "}\n",
              "\n",
              "/* on hover */\n",
              "#sk-container-id-1 div.sk-estimator:hover {\n",
              "  /* unfitted */\n",
              "  background-color: var(--sklearn-color-unfitted-level-2);\n",
              "}\n",
              "\n",
              "#sk-container-id-1 div.sk-estimator.fitted:hover {\n",
              "  /* fitted */\n",
              "  background-color: var(--sklearn-color-fitted-level-2);\n",
              "}\n",
              "\n",
              "/* Specification for estimator info (e.g. \"i\" and \"?\") */\n",
              "\n",
              "/* Common style for \"i\" and \"?\" */\n",
              "\n",
              ".sk-estimator-doc-link,\n",
              "a:link.sk-estimator-doc-link,\n",
              "a:visited.sk-estimator-doc-link {\n",
              "  float: right;\n",
              "  font-size: smaller;\n",
              "  line-height: 1em;\n",
              "  font-family: monospace;\n",
              "  background-color: var(--sklearn-color-background);\n",
              "  border-radius: 1em;\n",
              "  height: 1em;\n",
              "  width: 1em;\n",
              "  text-decoration: none !important;\n",
              "  margin-left: 0.5em;\n",
              "  text-align: center;\n",
              "  /* unfitted */\n",
              "  border: var(--sklearn-color-unfitted-level-1) 1pt solid;\n",
              "  color: var(--sklearn-color-unfitted-level-1);\n",
              "}\n",
              "\n",
              ".sk-estimator-doc-link.fitted,\n",
              "a:link.sk-estimator-doc-link.fitted,\n",
              "a:visited.sk-estimator-doc-link.fitted {\n",
              "  /* fitted */\n",
              "  border: var(--sklearn-color-fitted-level-1) 1pt solid;\n",
              "  color: var(--sklearn-color-fitted-level-1);\n",
              "}\n",
              "\n",
              "/* On hover */\n",
              "div.sk-estimator:hover .sk-estimator-doc-link:hover,\n",
              ".sk-estimator-doc-link:hover,\n",
              "div.sk-label-container:hover .sk-estimator-doc-link:hover,\n",
              ".sk-estimator-doc-link:hover {\n",
              "  /* unfitted */\n",
              "  background-color: var(--sklearn-color-unfitted-level-3);\n",
              "  color: var(--sklearn-color-background);\n",
              "  text-decoration: none;\n",
              "}\n",
              "\n",
              "div.sk-estimator.fitted:hover .sk-estimator-doc-link.fitted:hover,\n",
              ".sk-estimator-doc-link.fitted:hover,\n",
              "div.sk-label-container:hover .sk-estimator-doc-link.fitted:hover,\n",
              ".sk-estimator-doc-link.fitted:hover {\n",
              "  /* fitted */\n",
              "  background-color: var(--sklearn-color-fitted-level-3);\n",
              "  color: var(--sklearn-color-background);\n",
              "  text-decoration: none;\n",
              "}\n",
              "\n",
              "/* Span, style for the box shown on hovering the info icon */\n",
              ".sk-estimator-doc-link span {\n",
              "  display: none;\n",
              "  z-index: 9999;\n",
              "  position: relative;\n",
              "  font-weight: normal;\n",
              "  right: .2ex;\n",
              "  padding: .5ex;\n",
              "  margin: .5ex;\n",
              "  width: min-content;\n",
              "  min-width: 20ex;\n",
              "  max-width: 50ex;\n",
              "  color: var(--sklearn-color-text);\n",
              "  box-shadow: 2pt 2pt 4pt #999;\n",
              "  /* unfitted */\n",
              "  background: var(--sklearn-color-unfitted-level-0);\n",
              "  border: .5pt solid var(--sklearn-color-unfitted-level-3);\n",
              "}\n",
              "\n",
              ".sk-estimator-doc-link.fitted span {\n",
              "  /* fitted */\n",
              "  background: var(--sklearn-color-fitted-level-0);\n",
              "  border: var(--sklearn-color-fitted-level-3);\n",
              "}\n",
              "\n",
              ".sk-estimator-doc-link:hover span {\n",
              "  display: block;\n",
              "}\n",
              "\n",
              "/* \"?\"-specific style due to the `<a>` HTML tag */\n",
              "\n",
              "#sk-container-id-1 a.estimator_doc_link {\n",
              "  float: right;\n",
              "  font-size: 1rem;\n",
              "  line-height: 1em;\n",
              "  font-family: monospace;\n",
              "  background-color: var(--sklearn-color-background);\n",
              "  border-radius: 1rem;\n",
              "  height: 1rem;\n",
              "  width: 1rem;\n",
              "  text-decoration: none;\n",
              "  /* unfitted */\n",
              "  color: var(--sklearn-color-unfitted-level-1);\n",
              "  border: var(--sklearn-color-unfitted-level-1) 1pt solid;\n",
              "}\n",
              "\n",
              "#sk-container-id-1 a.estimator_doc_link.fitted {\n",
              "  /* fitted */\n",
              "  border: var(--sklearn-color-fitted-level-1) 1pt solid;\n",
              "  color: var(--sklearn-color-fitted-level-1);\n",
              "}\n",
              "\n",
              "/* On hover */\n",
              "#sk-container-id-1 a.estimator_doc_link:hover {\n",
              "  /* unfitted */\n",
              "  background-color: var(--sklearn-color-unfitted-level-3);\n",
              "  color: var(--sklearn-color-background);\n",
              "  text-decoration: none;\n",
              "}\n",
              "\n",
              "#sk-container-id-1 a.estimator_doc_link.fitted:hover {\n",
              "  /* fitted */\n",
              "  background-color: var(--sklearn-color-fitted-level-3);\n",
              "}\n",
              "</style><div id=\"sk-container-id-1\" class=\"sk-top-container\"><div class=\"sk-text-repr-fallback\"><pre>LogisticRegression()</pre><b>In a Jupyter environment, please rerun this cell to show the HTML representation or trust the notebook. <br />On GitHub, the HTML representation is unable to render, please try loading this page with nbviewer.org.</b></div><div class=\"sk-container\" hidden><div class=\"sk-item\"><div class=\"sk-estimator fitted sk-toggleable\"><input class=\"sk-toggleable__control sk-hidden--visually\" id=\"sk-estimator-id-1\" type=\"checkbox\" checked><label for=\"sk-estimator-id-1\" class=\"sk-toggleable__label fitted sk-toggleable__label-arrow\"><div><div>LogisticRegression</div></div><div><a class=\"sk-estimator-doc-link fitted\" rel=\"noreferrer\" target=\"_blank\" href=\"https://scikit-learn.org/1.6/modules/generated/sklearn.linear_model.LogisticRegression.html\">?<span>Documentation for LogisticRegression</span></a><span class=\"sk-estimator-doc-link fitted\">i<span>Fitted</span></span></div></label><div class=\"sk-toggleable__content fitted\"><pre>LogisticRegression()</pre></div> </div></div></div></div>"
            ],
            "text/plain": [
              "LogisticRegression()"
            ]
          },
          "execution_count": 26,
          "metadata": {},
          "output_type": "execute_result"
        }
      ],
      "source": [
        "model.fit(X_train_scaled, y_train.values.ravel())"
      ]
    },
    {
      "cell_type": "markdown",
      "metadata": {},
      "source": [
        "## Prediction"
      ]
    },
    {
      "cell_type": "code",
      "execution_count": 27,
      "metadata": {},
      "outputs": [],
      "source": [
        "y_pred = model.predict(X_test_scaled)"
      ]
    },
    {
      "cell_type": "markdown",
      "metadata": {},
      "source": [
        "## Accuracy"
      ]
    },
    {
      "cell_type": "code",
      "execution_count": 28,
      "metadata": {},
      "outputs": [
        {
          "data": {
            "text/plain": [
              "0.95"
            ]
          },
          "execution_count": 28,
          "metadata": {},
          "output_type": "execute_result"
        }
      ],
      "source": [
        "model.score(X_test_scaled,y_test)"
      ]
    },
    {
      "cell_type": "code",
      "execution_count": null,
      "metadata": {},
      "outputs": [
        {
          "name": "stdout",
          "output_type": "stream",
          "text": [
            "Confusion Matrix:\n",
            " [[17  0]\n",
            " [ 1  2]]\n",
            "Accuracy: 0.95\n",
            "Precision: 1.0\n",
            "Recall: 0.6666666666666666\n",
            "F1 Score: 0.8\n"
          ]
        }
      ],
      "source": [
        "from sklearn.metrics import accuracy_score, precision_score, recall_score, f1_score, confusion_matrix\n",
        "\n",
        "print(\"Confusion Matrix:\\n\", confusion_matrix(y_test, y_pred))\n",
        "print(\"Accuracy:\", accuracy_score(y_test, y_pred))\n",
        "print(\"Precision:\", precision_score(y_test, y_pred))\n",
        "print(\"Recall:\", recall_score(y_test, y_pred))\n",
        "print(\"F1 Score:\", f1_score(y_test, y_pred))\n"
      ]
    },
    {
      "cell_type": "code",
      "execution_count": null,
      "metadata": {},
      "outputs": [],
      "source": []
    }
  ],
  "metadata": {
    "colab": {
      "collapsed_sections": [],
      "name": "data_preprocessing_tools.ipynb",
      "provenance": [],
      "toc_visible": true
    },
    "kernelspec": {
      "display_name": ".venv",
      "language": "python",
      "name": "python3"
    },
    "language_info": {
      "codemirror_mode": {
        "name": "ipython",
        "version": 3
      },
      "file_extension": ".py",
      "mimetype": "text/x-python",
      "name": "python",
      "nbconvert_exporter": "python",
      "pygments_lexer": "ipython3",
      "version": "3.13.3"
    }
  },
  "nbformat": 4,
  "nbformat_minor": 0
}
